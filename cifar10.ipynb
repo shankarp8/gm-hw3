{
  "cells": [
    {
      "cell_type": "code",
      "execution_count": null,
      "metadata": {
        "id": "4K6lOePDgcF0"
      },
      "outputs": [],
      "source": [
        "!rm -rf gm-hw3\n",
        "!git clone https://github.com/shankarp8/gm-hw3.git\n",
        "!wget https://courses.cs.washington.edu/courses/cse599i/20au/resources/hw3data.tar.gz\n",
        "!tar -xf hw3data.tar.gz"
      ]
    },
    {
      "cell_type": "code",
      "execution_count": null,
      "metadata": {
        "id": "NoBee55lgcF1"
      },
      "outputs": [],
      "source": [
        "import sys,os,signal\n",
        "from time import time\n",
        "\n",
        "import numpy as np\n",
        "\n",
        "import matplotlib\n",
        "import matplotlib.pyplot as plt\n",
        "\n",
        "import torch\n",
        "from torch import Tensor\n",
        "from torchvision import transforms\n",
        "\n",
        "from IPython import display\n",
        "\n",
        "sys.path.append('./gm-hw3')\n",
        "import importlib\n",
        "importlib.reload(mnist)\n",
        "importlib.reload(models)\n",
        "importlib.reload(utils)\n",
        "importlib.reload(inception)\n",
        "\n",
        "root = 'data/'"
      ]
    },
    {
      "cell_type": "code",
      "execution_count": null,
      "metadata": {
        "id": "hSHyczMUgcF1"
      },
      "outputs": [],
      "source": [
        "def worker_init(args):\n",
        "    signal.signal(signal.SIGINT, signal.SIG_IGN)\n",
        "\n",
        "batch_size = 256\n",
        "kwargs = {'num_workers': 2, 'pin_memory': True, 'worker_init_fn': worker_init}\n",
        "\n",
        "train_set = cifar.CIFAR10(root=root, train=True, one_hot=True, transform=transforms.ToTensor(),download=True)\n",
        "test_set = cifar.CIFAR10(root=root, train=False, one_hot=True, transform=transforms.ToTensor())\n",
        "\n",
        "train_loader = torch.utils.data.DataLoader(dataset=train_set,batch_size=batch_size,shuffle=True, **kwargs)\n",
        "test_loader = torch.utils.data.DataLoader(dataset=test_set,batch_size=batch_size,shuffle=False, **kwargs)"
      ]
    },
    {
      "cell_type": "code",
      "execution_count": null,
      "metadata": {
        "id": "qV6fEv64gcF1"
      },
      "outputs": [],
      "source": [
        "seed_size = 128\n",
        "\n",
        "g = models.Generator(seed_size).cuda()\n",
        "f = models.Discriminator().cuda()"
      ]
    },
    {
      "cell_type": "code",
      "execution_count": null,
      "metadata": {
        "id": "29i9DlT0gcF1"
      },
      "outputs": [],
      "source": [
        "fig, ax = plt.subplots(1,2,figsize=(14,7))\n",
        "\n",
        "lr = 3e-4\n",
        "\n",
        "foptimizer = torch.optim.Adam(f.parameters(), lr=lr, betas=(0.0,0.9))\n",
        "goptimizer = torch.optim.Adam(g.parameters(), lr=lr, betas=(0.0,0.9))\n",
        "\n",
        "losses = []\n",
        "\n",
        "i = 0\n",
        "t0 = time()\n",
        "scores = []\n",
        "epochs = 100\n",
        "for epoch in range(epochs):\n",
        "    for x,_ in train_loader:\n",
        "        x = x.cuda()\n",
        "\n",
        "        #\n",
        "        # Problem 6: Calculate gan updates. You ought to be able to\n",
        "        # use the same code that you implemented and debugged for MNIST.\n",
        "        #\n",
        "        # Track your generator loss by appending its loss to losses.\n",
        "        #\n",
        "        #\n",
        "        foptimizer.zero_grad()\n",
        "\n",
        "        z = torch.randn(x.size(0), seed_size).cuda()\n",
        "        temp = g(z).detach() # detach so that gradients aren't propped. to generator when discrim. is updated\n",
        "\n",
        "        score = f(x)\n",
        "        temp_score = f(temp)\n",
        "\n",
        "        eps = torch.randn(x.size(0), 1, 1, 1).cuda()\n",
        "        interp = eps * x + (1 - eps) * temp\n",
        "        interp = interp.requires_grad_()\n",
        "        new_score = f(interp)\n",
        "\n",
        "        grad = torch.autograd.grad(outputs=new_score, inputs=interp, grad_outputs=torch.ones_like(interp), create_graph=True, retain_graph=True, only_inputs=True)[0]\n",
        "        grad_norm = grad.view(grad.size(0), -1).norm(2, dim=1)\n",
        "        pen = ((grad_norm - 1) ** 2).mean()\n",
        "\n",
        "        lambda_val = 10\n",
        "        discrim_loss = temp_score.mean() - score.mean() + lambda_val * pen\n",
        "        discrim_loss.backward()\n",
        "        foptimizer.step()\n",
        "\n",
        "        goptimizer.zero_grad()\n",
        "\n",
        "        z = torch.randn(x.size(0), seed_size).cuda()\n",
        "        generated = g(z)\n",
        "        loss = -f(generated).mean()\n",
        "        loss.backward()\n",
        "        goptimizer.step()\n",
        "\n",
        "        losses.append(loss.detach().cpu().numpy())\n",
        "\n",
        "        if i % 100 == 0:\n",
        "            g.eval()\n",
        "            y = g(torch.randn(batch_size, seed_size).cuda())\n",
        "            display.clear_output(wait=True)\n",
        "            utils.print_images(y.detach().cpu().numpy(), ax[0])\n",
        "            ax[1].cla(); ax[1].plot(losses)\n",
        "            display.display(plt.gcf())\n",
        "            scores.append(inception.score(g, 1000, 100))\n",
        "            print(i, time()-t0, scores[-1])\n",
        "            g.train()\n",
        "            t0 = time()\n",
        "        i += 1"
      ]
    },
    {
      "cell_type": "code",
      "execution_count": null,
      "metadata": {
        "id": "6QWZWeazgcF2"
      },
      "outputs": [],
      "source": [
        "plt.plot(scores)\n",
        "\n",
        "g.eval()\n",
        "print(\"Final inception score:\", inception.score(g, 50000, 100))\n",
        "g.train();"
      ]
    },
    {
      "cell_type": "code",
      "execution_count": null,
      "metadata": {
        "id": "gcgMopmygcF2"
      },
      "outputs": [],
      "source": []
    }
  ],
  "metadata": {
    "kernelspec": {
      "display_name": "Python 3",
      "language": "python",
      "name": "python3"
    },
    "language_info": {
      "codemirror_mode": {
        "name": "ipython",
        "version": 3
      },
      "file_extension": ".py",
      "mimetype": "text/x-python",
      "name": "python",
      "nbconvert_exporter": "python",
      "pygments_lexer": "ipython3",
      "version": "3.7.5"
    },
    "colab": {
      "provenance": []
    }
  },
  "nbformat": 4,
  "nbformat_minor": 0
}