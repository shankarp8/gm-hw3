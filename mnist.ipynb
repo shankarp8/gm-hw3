{
  "cells": [
    {
      "cell_type": "code",
      "execution_count": 1,
      "metadata": {
        "colab": {
          "base_uri": "https://localhost:8080/"
        },
        "id": "btrPByzcGYy8",
        "outputId": "00ab0966-cd9e-480f-d44c-2e244346f6de"
      },
      "outputs": [
        {
          "output_type": "stream",
          "name": "stdout",
          "text": [
            "fatal: destination path 'gm-hw3' already exists and is not an empty directory.\n",
            "--2025-04-26 19:16:21--  https://courses.cs.washington.edu/courses/cse599i/20au/resources/hw3data.tar.gz\n",
            "Resolving courses.cs.washington.edu (courses.cs.washington.edu)... 128.208.1.193, 2607:4000:200:10::c1\n",
            "Connecting to courses.cs.washington.edu (courses.cs.washington.edu)|128.208.1.193|:443... connected.\n",
            "HTTP request sent, awaiting response... 200 OK\n",
            "Length: 182109015 (174M) [application/x-gzip]\n",
            "Saving to: ‘hw3data.tar.gz.2’\n",
            "\n",
            "hw3data.tar.gz.2    100%[===================>] 173.67M  8.87MB/s    in 17s     \n",
            "\n",
            "2025-04-26 19:16:38 (10.0 MB/s) - ‘hw3data.tar.gz.2’ saved [182109015/182109015]\n",
            "\n"
          ]
        }
      ],
      "source": [
        "!git clone https://github.com/shankarp8/gm-hw3.git\n",
        "\n",
        "!wget https://courses.cs.washington.edu/courses/cse599i/20au/resources/hw3data.tar.gz\n",
        "!tar -xf hw3data.tar.gz"
      ]
    },
    {
      "cell_type": "code",
      "execution_count": 2,
      "metadata": {
        "colab": {
          "base_uri": "https://localhost:8080/",
          "height": 241
        },
        "id": "BfkRxfKRGYy9",
        "outputId": "ec34c2d2-1205-497d-e222-ceb0b755aa90"
      },
      "outputs": [
        {
          "output_type": "error",
          "ename": "SyntaxError",
          "evalue": "invalid decimal literal (models.py, line 92)",
          "traceback": [
            "Traceback \u001b[0;36m(most recent call last)\u001b[0m:\n",
            "  File \u001b[1;32m\"/usr/local/lib/python3.11/dist-packages/IPython/core/interactiveshell.py\"\u001b[0m, line \u001b[1;32m3553\u001b[0m, in \u001b[1;35mrun_code\u001b[0m\n    exec(code_obj, self.user_global_ns, self.user_ns)\n",
            "\u001b[0;36m  File \u001b[0;32m\"<ipython-input-2-dbc7454033cf>\"\u001b[0;36m, line \u001b[0;32m16\u001b[0;36m, in \u001b[0;35m<cell line: 0>\u001b[0;36m\u001b[0m\n\u001b[0;31m    import mnist, models, utils\u001b[0m\n",
            "\u001b[0;36m  File \u001b[0;32m\"/content/./gm-hw3/models.py\"\u001b[0;36m, line \u001b[0;32m92\u001b[0m\n\u001b[0;31m    self.embed = torch.nn.Linear(seed_size, capacity*8x8, bias=False)\u001b[0m\n\u001b[0m                                                     ^\u001b[0m\n\u001b[0;31mSyntaxError\u001b[0m\u001b[0;31m:\u001b[0m invalid decimal literal\n"
          ]
        }
      ],
      "source": [
        "import sys,os,signal\n",
        "from time import time\n",
        "\n",
        "import numpy as np\n",
        "\n",
        "import matplotlib\n",
        "import matplotlib.pyplot as plt\n",
        "\n",
        "import torch\n",
        "from torch import Tensor\n",
        "from torchvision import transforms\n",
        "\n",
        "from IPython import display\n",
        "sys.path.append('./gm-hw3')\n",
        "import importlib\n",
        "importlib.reload(mnist)\n",
        "importlib.reload(models)\n",
        "importlib.reload(utils)\n",
        "\n",
        "\n",
        "# import mnist, models, utils\n",
        "\n",
        "root = 'data/'"
      ]
    },
    {
      "cell_type": "code",
      "execution_count": null,
      "metadata": {
        "id": "x-vRTSywGYy9"
      },
      "outputs": [],
      "source": [
        "def worker_init(args):\n",
        "    signal.signal(signal.SIGINT, signal.SIG_IGN)\n",
        "\n",
        "batch_size = 256\n",
        "kwargs = {'num_workers': 2, 'pin_memory': True, 'worker_init_fn': worker_init}\n",
        "\n",
        "train_set = mnist.MNIST(root=root, train=True, one_hot=True, transform=transforms.ToTensor(),download=True)\n",
        "test_set = mnist.MNIST(root=root, train=False, one_hot=True, transform=transforms.ToTensor())\n",
        "\n",
        "train_loader = torch.utils.data.DataLoader(dataset=train_set,batch_size=batch_size,shuffle=True, **kwargs)\n",
        "test_loader = torch.utils.data.DataLoader(dataset=test_set,batch_size=batch_size,shuffle=False, **kwargs)"
      ]
    },
    {
      "cell_type": "code",
      "execution_count": null,
      "metadata": {
        "id": "g_YMkjuCGYy-"
      },
      "outputs": [],
      "source": [
        "seed_size = 128\n",
        "\n",
        "g = models.GeneratorMNIST(seed_size).cuda()\n",
        "f = models.DiscriminatorMNIST().cuda()"
      ]
    },
    {
      "cell_type": "code",
      "execution_count": null,
      "metadata": {
        "id": "71ssV5nxGYy-"
      },
      "outputs": [],
      "source": [
        "fig, ax = plt.subplots(1,2,figsize=(14,7))\n",
        "\n",
        "lr = 3e-4\n",
        "\n",
        "foptimizer = torch.optim.Adam(f.parameters(), lr=lr, betas=(0,0.9))\n",
        "goptimizer = torch.optim.Adam(g.parameters(), lr=lr, betas=(0,0.9))\n",
        "\n",
        "losses = []\n",
        "\n",
        "i = 0\n",
        "t0 = time()\n",
        "scores = []\n",
        "epochs = 40\n",
        "for epoch in range(epochs):\n",
        "    for x,_ in train_loader:\n",
        "        x = x.cuda()\n",
        "\n",
        "        #\n",
        "        # Problem 5: Calculate the gan updates to optimize\n",
        "        #   (1) The discriminator f, using foptimizer.\n",
        "        #   (2) The generator g, using goptimizer.\n",
        "        #\n",
        "        # Track your generator loss by appending its loss to losses.\n",
        "        #\n",
        "        foptimizer.zero_grad()\n",
        "\n",
        "        z = torch.randn(x.size(0), seed_size).cuda()\n",
        "        temp = g(z).detach() # detach so that gradients aren't propped. to generator when discrim. is updated\n",
        "\n",
        "        score = f(x)\n",
        "        temp_score = f(temp)\n",
        "\n",
        "        eps = torch.randn(x.size(0), 1, 1, 1).cuda()\n",
        "        interp = eps * x + (1 - eps) * temp\n",
        "        interp = interp.requires_grad_()\n",
        "        new_score = f(interp)\n",
        "\n",
        "        grad = torch.autograd.grad(outputs=new_score, inputs=interp, grad_outputs=torch.ones_like(interp), create_graph=True, retain_graph=True, only_inputs=True)[0]\n",
        "        grad_norm = grad.view(grad.size(0), -1).norm(2, dim=1)\n",
        "        pen = ((grad_norm - 1) ** 2).mean()\n",
        "\n",
        "        lambda_val = 10\n",
        "        discrim_loss = temp_score.mean() - score.mean() + lambda_val * pen\n",
        "        discrim_loss.backward()\n",
        "        foptimizer.step()\n",
        "\n",
        "        goptimizer.zero_grad()\n",
        "\n",
        "        z = torch.randn(x.size(0), seed_size).cuda()\n",
        "        generated = g(z)\n",
        "        loss = -f(generated).mean()\n",
        "        loss.backward()\n",
        "        goptimizer.step()\n",
        "\n",
        "\n",
        "        losses.append(loss.detach().cpu().numpy())\n",
        "\n",
        "        if i % 100 == 0:\n",
        "            g.eval()\n",
        "            y = g(torch.randn(batch_size, seed_size).cuda())\n",
        "            display.clear_output(wait=True)\n",
        "            utils.print_images(y.detach().cpu().numpy(), ax[0], d=28)\n",
        "            ax[1].cla(); ax[1].plot(losses)\n",
        "            display.display(plt.gcf())\n",
        "            print(i, time()-t0)\n",
        "            g.train()\n",
        "            t0 = time()\n",
        "        i += 1"
      ]
    },
    {
      "cell_type": "code",
      "execution_count": null,
      "metadata": {
        "id": "dMo4wXnlGYy-"
      },
      "outputs": [],
      "source": []
    }
  ],
  "metadata": {
    "kernelspec": {
      "display_name": "Python 3",
      "name": "python3"
    },
    "language_info": {
      "codemirror_mode": {
        "name": "ipython",
        "version": 3
      },
      "file_extension": ".py",
      "mimetype": "text/x-python",
      "name": "python",
      "nbconvert_exporter": "python",
      "pygments_lexer": "ipython3",
      "version": "3.7.5"
    },
    "colab": {
      "provenance": [],
      "gpuType": "T4"
    },
    "accelerator": "GPU"
  },
  "nbformat": 4,
  "nbformat_minor": 0
}