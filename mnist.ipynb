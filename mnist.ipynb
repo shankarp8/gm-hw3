{
  "cells": [
    {
      "cell_type": "code",
      "execution_count": null,
      "metadata": {
        "id": "btrPByzcGYy8"
      },
      "outputs": [],
      "source": [
        "%%bash\n",
        "git clone https://github.com/shankarp8/gm-hw3/tree/main\n",
        "wget https://courses.cs.washington.edu/courses/cse599i/20au/resources/hw3data.tar.gz\n",
        "tar -xf hw3data.tar.gz"
      ]
    },
    {
      "cell_type": "code",
      "execution_count": null,
      "metadata": {
        "id": "BfkRxfKRGYy9"
      },
      "outputs": [],
      "source": [
        "import sys,os,signal\n",
        "from time import time\n",
        "\n",
        "import numpy as np\n",
        "\n",
        "import matplotlib\n",
        "import matplotlib.pyplot as plt\n",
        "\n",
        "import torch\n",
        "from torch import Tensor\n",
        "from torchvision import transforms\n",
        "\n",
        "from IPython import display\n",
        "\n",
        "sys.path.append('gm-hw3')\n",
        "import mnist, models, utils\n",
        "\n",
        "root = 'data/'"
      ]
    },
    {
      "cell_type": "code",
      "execution_count": null,
      "metadata": {
        "id": "x-vRTSywGYy9"
      },
      "outputs": [],
      "source": [
        "def worker_init(args):\n",
        "    signal.signal(signal.SIGINT, signal.SIG_IGN)\n",
        "\n",
        "batch_size = 256\n",
        "kwargs = {'num_workers': 2, 'pin_memory': True, 'worker_init_fn': worker_init}\n",
        "\n",
        "train_set = mnist.MNIST(root=root, train=True, one_hot=True, transform=transforms.ToTensor(),download=True)\n",
        "test_set = mnist.MNIST(root=root, train=False, one_hot=True, transform=transforms.ToTensor())\n",
        "\n",
        "train_loader = torch.utils.data.DataLoader(dataset=train_set,batch_size=batch_size,shuffle=True, **kwargs)\n",
        "test_loader = torch.utils.data.DataLoader(dataset=test_set,batch_size=batch_size,shuffle=False, **kwargs)"
      ]
    },
    {
      "cell_type": "code",
      "execution_count": null,
      "metadata": {
        "id": "g_YMkjuCGYy-"
      },
      "outputs": [],
      "source": [
        "seed_size = 128\n",
        "\n",
        "g = models.Generator(seed_size).cuda()\n",
        "f = models.Discriminator().cuda()"
      ]
    },
    {
      "cell_type": "code",
      "execution_count": null,
      "metadata": {
        "id": "71ssV5nxGYy-"
      },
      "outputs": [],
      "source": [
        "fig, ax = plt.subplots(1,2,figsize=(14,7))\n",
        "\n",
        "lr = 3e-4\n",
        "\n",
        "foptimizer = torch.optim.Adam(f.parameters(), lr=lr, betas=(0,0.9))\n",
        "goptimizer = torch.optim.Adam(g.parameters(), lr=lr, betas=(0,0.9))\n",
        "\n",
        "losses = []\n",
        "\n",
        "i = 0\n",
        "t0 = time()\n",
        "scores = []\n",
        "epochs = 40\n",
        "for epoch in range(epochs):\n",
        "    for x,_ in train_loader:\n",
        "        x = x.cuda()\n",
        "\n",
        "        #\n",
        "        # Problem 5: Calculate the gan updates to optimize\n",
        "        #   (1) The discriminator f, using foptimizer.\n",
        "        #   (2) The generator g, using goptimizer.\n",
        "        #\n",
        "        # Track your generator loss by appending its loss to losses.\n",
        "        #\n",
        "\n",
        "        losses.append(loss.detach().cpu().numpy())\n",
        "\n",
        "        if i % 100 == 0:\n",
        "            g.eval()\n",
        "            y = g(torch.randn(batch_size, seed_size).cuda())\n",
        "            display.clear_output(wait=True)\n",
        "            utils.print_images(y.detach().cpu().numpy(), ax[0], d=28)\n",
        "            ax[1].cla(); ax[1].plot(losses)\n",
        "            display.display(plt.gcf())\n",
        "            print(i, time()-t0)\n",
        "            g.train()\n",
        "            t0 = time()\n",
        "        i += 1"
      ]
    },
    {
      "cell_type": "code",
      "execution_count": null,
      "metadata": {
        "id": "dMo4wXnlGYy-"
      },
      "outputs": [],
      "source": []
    }
  ],
  "metadata": {
    "kernelspec": {
      "display_name": "Python 3",
      "language": "python",
      "name": "python3"
    },
    "language_info": {
      "codemirror_mode": {
        "name": "ipython",
        "version": 3
      },
      "file_extension": ".py",
      "mimetype": "text/x-python",
      "name": "python",
      "nbconvert_exporter": "python",
      "pygments_lexer": "ipython3",
      "version": "3.7.5"
    },
    "colab": {
      "provenance": []
    }
  },
  "nbformat": 4,
  "nbformat_minor": 0
}